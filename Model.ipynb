{
 "cells": [
  {
   "cell_type": "code",
   "execution_count": 12,
   "metadata": {},
   "outputs": [],
   "source": [
    "import pandas as pd\n",
    "from tqdm import tqdm\n",
    "\n",
    "# 결측이 이전 시간대 사용하거나 이전 시간대가 없으면 전날..?\n"
   ]
  },
  {
   "cell_type": "code",
   "execution_count": 13,
   "metadata": {},
   "outputs": [],
   "source": [
    "train =pd.read_csv('dataset/Train_data/Second_dataset.csv',low_memory=False)"
   ]
  },
  {
   "cell_type": "code",
   "execution_count": 15,
   "metadata": {},
   "outputs": [
    {
     "name": "stderr",
     "output_type": "stream",
     "text": [
      "100%|██████████| 10/10 [07:22<00:00, 44.27s/it]\n",
      "100%|██████████| 2/2 [01:02<00:00, 31.46s/it]\n"
     ]
    }
   ],
   "source": [
    "numeric_weather_columns = [\n",
    "    '출발현재기온값', '출발강수량', '출발적설량', '출발풍속',\n",
    "    '도착현재기온값', '도착강수량', '도착적설량', '도착풍속',\n",
    "    '출발시정값', '도착시정값'\n",
    "]\n",
    "string_weather_columns = ['출발현재일기내용', '도착현재일기내용']\n",
    "\n",
    "# 숫자형 컬럼에 대해 같은 날, 같은 장소 기준으로 보간 적용\n",
    "for col in tqdm(numeric_weather_columns):\n",
    "    if col in train.columns:  # 데이터에 해당 컬럼이 있는지 확인\n",
    "        train[col] = train.groupby(['집계일자', '출발영업소코드', '도착영업소코드'])[col].transform(\n",
    "            lambda x: x.interpolate(method='linear', limit_direction='both')\n",
    "        )\n",
    "\n",
    "# 문자열 컬럼에 대해 같은 날, 같은 장소 기준으로 이전 시간대 값으로 채우기\n",
    "for col in tqdm(string_weather_columns):\n",
    "    if col in train.columns:\n",
    "        train[col] = train.groupby(['집계일자', '출발영업소코드', '도착영업소코드'])[col].transform(lambda x: x.ffill())"
   ]
  },
  {
   "cell_type": "code",
   "execution_count": 16,
   "metadata": {},
   "outputs": [
    {
     "data": {
      "text/plain": [
       "집계일자             0\n",
       "집계시              0\n",
       "출발영업소코드          0\n",
       "도착영업소코드          0\n",
       "TCS차종구분코드        0\n",
       "통행시간             0\n",
       "교통량              0\n",
       "휴일 여부            0\n",
       "출발현재일기내용     14993\n",
       "출발시정값        12297\n",
       "출발현재기온값      12297\n",
       "출발강수량        12297\n",
       "출발적설량        12297\n",
       "출발풍속         12297\n",
       "도착현재일기내용     15005\n",
       "도착시정값        12297\n",
       "도착현재기온값      12297\n",
       "도착강수량        12297\n",
       "도착적설량        12297\n",
       "도착풍속         12297\n",
       "dtype: int64"
      ]
     },
     "execution_count": 16,
     "metadata": {},
     "output_type": "execute_result"
    }
   ],
   "source": [
    "train.to_csv('Second_NULL_test.csv',index=False,encoding='utf-8-sig')\n",
    "\n",
    "train.isna().sum()"
   ]
  },
  {
   "cell_type": "code",
   "execution_count": 18,
   "metadata": {},
   "outputs": [
    {
     "name": "stderr",
     "output_type": "stream",
     "text": [
      "100%|██████████| 10/10 [00:05<00:00,  1.72it/s]\n",
      "100%|██████████| 2/2 [00:01<00:00,  1.05it/s]\n"
     ]
    }
   ],
   "source": [
    "# 3. 남은 결측치에 대해 숫자형 컬럼은 각 일자의 평균값으로 채우기\n",
    "for col in tqdm(numeric_weather_columns):\n",
    "    if col in train.columns:\n",
    "        train[col] = train.groupby('집계일자')[col].transform(\n",
    "            lambda x: x.fillna(x.mean())\n",
    "        )\n",
    "\n",
    "# 4. 남은 결측치에 대해 문자열 컬럼은 각 일자의 최빈값으로 채우기\n",
    "for col in tqdm(string_weather_columns):\n",
    "    if col in train.columns:\n",
    "        # Define a function to fill with mode or leave as NaN if mode is not available\n",
    "        def fill_with_mode(series):\n",
    "            mode = series.mode()\n",
    "            if not mode.empty:\n",
    "                return series.fillna(mode[0])\n",
    "            else:\n",
    "                return series\n",
    "\n",
    "        train[col] = train.groupby('집계일자')[col].transform(fill_with_mode)"
   ]
  },
  {
   "cell_type": "code",
   "execution_count": 19,
   "metadata": {},
   "outputs": [
    {
     "data": {
      "text/plain": [
       "집계일자             0\n",
       "집계시              0\n",
       "출발영업소코드          0\n",
       "도착영업소코드          0\n",
       "TCS차종구분코드        0\n",
       "통행시간             0\n",
       "교통량              0\n",
       "휴일 여부            0\n",
       "출발현재일기내용     12209\n",
       "출발시정값        12209\n",
       "출발현재기온값      12209\n",
       "출발강수량        12209\n",
       "출발적설량        12209\n",
       "출발풍속         12209\n",
       "도착현재일기내용     12209\n",
       "도착시정값        12209\n",
       "도착현재기온값      12209\n",
       "도착강수량        12209\n",
       "도착적설량        12209\n",
       "도착풍속         12209\n",
       "dtype: int64"
      ]
     },
     "execution_count": 19,
     "metadata": {},
     "output_type": "execute_result"
    }
   ],
   "source": [
    "train.to_csv('Second_NULL_test_2.csv',index=False,encoding='utf-8-sig')\n",
    "\n",
    "train.isna().sum()"
   ]
  },
  {
   "cell_type": "code",
   "execution_count": 20,
   "metadata": {},
   "outputs": [
    {
     "data": {
      "text/plain": [
       "array([20231012], dtype=int64)"
      ]
     },
     "execution_count": 20,
     "metadata": {},
     "output_type": "execute_result"
    }
   ],
   "source": [
    "missing_dates = train[train.isnull().any(axis=1)]['집계일자'].unique()\n",
    "\n",
    "missing_dates"
   ]
  }
 ],
 "metadata": {
  "kernelspec": {
   "display_name": "Python 3",
   "language": "python",
   "name": "python3"
  },
  "language_info": {
   "codemirror_mode": {
    "name": "ipython",
    "version": 3
   },
   "file_extension": ".py",
   "mimetype": "text/x-python",
   "name": "python",
   "nbconvert_exporter": "python",
   "pygments_lexer": "ipython3",
   "version": "3.10.11"
  }
 },
 "nbformat": 4,
 "nbformat_minor": 2
}
